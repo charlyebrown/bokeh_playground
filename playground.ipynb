{
 "cells": [
  {
   "cell_type": "code",
   "execution_count": 2,
   "metadata": {},
   "outputs": [
    {
     "name": "stdout",
     "output_type": "stream",
     "text": [
      "Requirement already satisfied: bokeh in /Users/charlyetran/Documents/bokeh/venv/lib/python3.5/site-packages\r\n",
      "Requirement already satisfied: requests>=1.2.3 in /Users/charlyetran/Documents/bokeh/venv/lib/python3.5/site-packages (from bokeh)\r\n",
      "Requirement already satisfied: PyYAML>=3.10 in /Users/charlyetran/Documents/bokeh/venv/lib/python3.5/site-packages (from bokeh)\r\n",
      "Requirement already satisfied: six>=1.5.2 in /Users/charlyetran/Documents/bokeh/venv/lib/python3.5/site-packages (from bokeh)\r\n",
      "Requirement already satisfied: tornado>=4.3 in /Users/charlyetran/Documents/bokeh/venv/lib/python3.5/site-packages (from bokeh)\r\n",
      "Requirement already satisfied: Jinja2>=2.7 in /Users/charlyetran/Documents/bokeh/venv/lib/python3.5/site-packages (from bokeh)\r\n",
      "Requirement already satisfied: numpy>=1.7.1 in /Users/charlyetran/Documents/bokeh/venv/lib/python3.5/site-packages (from bokeh)\r\n",
      "Requirement already satisfied: python-dateutil>=2.1 in /Users/charlyetran/Documents/bokeh/venv/lib/python3.5/site-packages (from bokeh)\r\n",
      "Requirement already satisfied: MarkupSafe>=0.23 in /Users/charlyetran/Documents/bokeh/venv/lib/python3.5/site-packages (from Jinja2>=2.7->bokeh)\r\n"
     ]
    }
   ],
   "source": [
    "!pip install bokeh"
   ]
  },
  {
   "cell_type": "code",
   "execution_count": 5,
   "metadata": {},
   "outputs": [
    {
     "data": {
      "text/html": [
       "\n",
       "    <div class=\"bk-root\">\n",
       "        <a href=\"http://bokeh.pydata.org\" target=\"_blank\" class=\"bk-logo bk-logo-small bk-logo-notebook\"></a>\n",
       "        <span id=\"e90f2e7b-f2ab-475c-9c9a-e776f0f1bb7b\">Loading BokehJS ...</span>\n",
       "    </div>"
      ]
     },
     "metadata": {},
     "output_type": "display_data"
    },
    {
     "data": {
      "application/javascript": [
       "\n",
       "(function(global) {\n",
       "  function now() {\n",
       "    return new Date();\n",
       "  }\n",
       "\n",
       "  var force = true;\n",
       "\n",
       "  if (typeof (window._bokeh_onload_callbacks) === \"undefined\" || force === true) {\n",
       "    window._bokeh_onload_callbacks = [];\n",
       "    window._bokeh_is_loading = undefined;\n",
       "  }\n",
       "\n",
       "\n",
       "  \n",
       "  if (typeof (window._bokeh_timeout) === \"undefined\" || force === true) {\n",
       "    window._bokeh_timeout = Date.now() + 5000;\n",
       "    window._bokeh_failed_load = false;\n",
       "  }\n",
       "\n",
       "  var NB_LOAD_WARNING = {'data': {'text/html':\n",
       "     \"<div style='background-color: #fdd'>\\n\"+\n",
       "     \"<p>\\n\"+\n",
       "     \"BokehJS does not appear to have successfully loaded. If loading BokehJS from CDN, this \\n\"+\n",
       "     \"may be due to a slow or bad network connection. Possible fixes:\\n\"+\n",
       "     \"</p>\\n\"+\n",
       "     \"<ul>\\n\"+\n",
       "     \"<li>re-rerun `output_notebook()` to attempt to load from CDN again, or</li>\\n\"+\n",
       "     \"<li>use INLINE resources instead, as so:</li>\\n\"+\n",
       "     \"</ul>\\n\"+\n",
       "     \"<code>\\n\"+\n",
       "     \"from bokeh.resources import INLINE\\n\"+\n",
       "     \"output_notebook(resources=INLINE)\\n\"+\n",
       "     \"</code>\\n\"+\n",
       "     \"</div>\"}};\n",
       "\n",
       "  function display_loaded() {\n",
       "    if (window.Bokeh !== undefined) {\n",
       "      var el = document.getElementById(\"e90f2e7b-f2ab-475c-9c9a-e776f0f1bb7b\");\n",
       "      el.textContent = \"BokehJS \" + Bokeh.version + \" successfully loaded.\";\n",
       "    } else if (Date.now() < window._bokeh_timeout) {\n",
       "      setTimeout(display_loaded, 100)\n",
       "    }\n",
       "  }\n",
       "\n",
       "  function run_callbacks() {\n",
       "    window._bokeh_onload_callbacks.forEach(function(callback) { callback() });\n",
       "    delete window._bokeh_onload_callbacks\n",
       "    console.info(\"Bokeh: all callbacks have finished\");\n",
       "  }\n",
       "\n",
       "  function load_libs(js_urls, callback) {\n",
       "    window._bokeh_onload_callbacks.push(callback);\n",
       "    if (window._bokeh_is_loading > 0) {\n",
       "      console.log(\"Bokeh: BokehJS is being loaded, scheduling callback at\", now());\n",
       "      return null;\n",
       "    }\n",
       "    if (js_urls == null || js_urls.length === 0) {\n",
       "      run_callbacks();\n",
       "      return null;\n",
       "    }\n",
       "    console.log(\"Bokeh: BokehJS not loaded, scheduling load and callback at\", now());\n",
       "    window._bokeh_is_loading = js_urls.length;\n",
       "    for (var i = 0; i < js_urls.length; i++) {\n",
       "      var url = js_urls[i];\n",
       "      var s = document.createElement('script');\n",
       "      s.src = url;\n",
       "      s.async = false;\n",
       "      s.onreadystatechange = s.onload = function() {\n",
       "        window._bokeh_is_loading--;\n",
       "        if (window._bokeh_is_loading === 0) {\n",
       "          console.log(\"Bokeh: all BokehJS libraries loaded\");\n",
       "          run_callbacks()\n",
       "        }\n",
       "      };\n",
       "      s.onerror = function() {\n",
       "        console.warn(\"failed to load library \" + url);\n",
       "      };\n",
       "      console.log(\"Bokeh: injecting script tag for BokehJS library: \", url);\n",
       "      document.getElementsByTagName(\"head\")[0].appendChild(s);\n",
       "    }\n",
       "  };var element = document.getElementById(\"e90f2e7b-f2ab-475c-9c9a-e776f0f1bb7b\");\n",
       "  if (element == null) {\n",
       "    console.log(\"Bokeh: ERROR: autoload.js configured with elementid 'e90f2e7b-f2ab-475c-9c9a-e776f0f1bb7b' but no matching script tag was found. \")\n",
       "    return false;\n",
       "  }\n",
       "\n",
       "  var js_urls = [\"https://cdn.pydata.org/bokeh/release/bokeh-0.12.5.min.js\", \"https://cdn.pydata.org/bokeh/release/bokeh-widgets-0.12.5.min.js\"];\n",
       "\n",
       "  var inline_js = [\n",
       "    function(Bokeh) {\n",
       "      Bokeh.set_log_level(\"info\");\n",
       "    },\n",
       "    \n",
       "    function(Bokeh) {\n",
       "      \n",
       "    },\n",
       "    \n",
       "    function(Bokeh) {\n",
       "      \n",
       "      document.getElementById(\"e90f2e7b-f2ab-475c-9c9a-e776f0f1bb7b\").textContent = \"BokehJS is loading...\";\n",
       "    },\n",
       "    function(Bokeh) {\n",
       "      console.log(\"Bokeh: injecting CSS: https://cdn.pydata.org/bokeh/release/bokeh-0.12.5.min.css\");\n",
       "      Bokeh.embed.inject_css(\"https://cdn.pydata.org/bokeh/release/bokeh-0.12.5.min.css\");\n",
       "      console.log(\"Bokeh: injecting CSS: https://cdn.pydata.org/bokeh/release/bokeh-widgets-0.12.5.min.css\");\n",
       "      Bokeh.embed.inject_css(\"https://cdn.pydata.org/bokeh/release/bokeh-widgets-0.12.5.min.css\");\n",
       "    }\n",
       "  ];\n",
       "\n",
       "  function run_inline_js() {\n",
       "    \n",
       "    if ((window.Bokeh !== undefined) || (force === true)) {\n",
       "      for (var i = 0; i < inline_js.length; i++) {\n",
       "        inline_js[i](window.Bokeh);\n",
       "      }if (force === true) {\n",
       "        display_loaded();\n",
       "      }} else if (Date.now() < window._bokeh_timeout) {\n",
       "      setTimeout(run_inline_js, 100);\n",
       "    } else if (!window._bokeh_failed_load) {\n",
       "      console.log(\"Bokeh: BokehJS failed to load within specified timeout.\");\n",
       "      window._bokeh_failed_load = true;\n",
       "    } else if (force !== true) {\n",
       "      var cell = $(document.getElementById(\"e90f2e7b-f2ab-475c-9c9a-e776f0f1bb7b\")).parents('.cell').data().cell;\n",
       "      cell.output_area.append_execute_result(NB_LOAD_WARNING)\n",
       "    }\n",
       "\n",
       "  }\n",
       "\n",
       "  if (window._bokeh_is_loading === 0) {\n",
       "    console.log(\"Bokeh: BokehJS loaded, going straight to plotting\");\n",
       "    run_inline_js();\n",
       "  } else {\n",
       "    load_libs(js_urls, function() {\n",
       "      console.log(\"Bokeh: BokehJS plotting callback run at\", now());\n",
       "      run_inline_js();\n",
       "    });\n",
       "  }\n",
       "}(this));"
      ]
     },
     "metadata": {},
     "output_type": "display_data"
    }
   ],
   "source": [
    "from bokeh.plotting import figure, show\n",
    "from bokeh.io import output_notebook\n",
    "output_notebook()"
   ]
  },
  {
   "cell_type": "code",
   "execution_count": 54,
   "metadata": {},
   "outputs": [],
   "source": [
    "import numpy as np\n",
    "import pandas as pd"
   ]
  },
  {
   "cell_type": "code",
   "execution_count": 53,
   "metadata": {},
   "outputs": [
    {
     "name": "stdout",
     "output_type": "stream",
     "text": [
      "Collecting pandas\n",
      "  Downloading pandas-0.19.2-cp35-cp35m-macosx_10_6_intel.macosx_10_9_intel.macosx_10_9_x86_64.macosx_10_10_intel.macosx_10_10_x86_64.whl (11.6MB)\n",
      "\u001b[K    100% |████████████████████████████████| 11.6MB 93kB/s  eta 0:00:01    94% |██████████████████████████████▎ | 11.0MB 62.5MB/s eta 0:00:01\n",
      "\u001b[?25hRequirement already satisfied: python-dateutil>=2 in /Users/charlyetran/Documents/bokeh/venv/lib/python3.5/site-packages (from pandas)\n",
      "Requirement already satisfied: numpy>=1.7.0 in /Users/charlyetran/Documents/bokeh/venv/lib/python3.5/site-packages (from pandas)\n",
      "Collecting pytz>=2011k (from pandas)\n",
      "  Downloading pytz-2017.2-py2.py3-none-any.whl (484kB)\n",
      "\u001b[K    100% |████████████████████████████████| 491kB 2.7MB/s eta 0:00:01\n",
      "\u001b[?25hRequirement already satisfied: six>=1.5 in /Users/charlyetran/Documents/bokeh/venv/lib/python3.5/site-packages (from python-dateutil>=2->pandas)\n",
      "Installing collected packages: pytz, pandas\n",
      "Successfully installed pandas-0.19.2 pytz-2017.2\n"
     ]
    }
   ],
   "source": [
    "!pip install pandas"
   ]
  },
  {
   "cell_type": "code",
   "execution_count": 55,
   "metadata": {},
   "outputs": [],
   "source": [
    "from random import randint\n",
    "from bokeh.charts import Scatter"
   ]
  },
  {
   "cell_type": "code",
   "execution_count": 16,
   "metadata": {
    "collapsed": true
   },
   "outputs": [],
   "source": [
    "def random_generator(numbers,upper_bound=100000,lower_bound=1):\n",
    "    return [randint(lower_bound,upper_bound) for i in range(numbers)]"
   ]
  },
  {
   "cell_type": "code",
   "execution_count": 90,
   "metadata": {
    "collapsed": true
   },
   "outputs": [],
   "source": [
    "price = random_generator(100,1000,0)"
   ]
  },
  {
   "cell_type": "code",
   "execution_count": 47,
   "metadata": {},
   "outputs": [],
   "source": [
    "#year = random_generator(100,2017,2010)\n",
    "from itertools import chain\n",
    "year = list(chain(*[[y] *20 for y in range(2012,2017)]))"
   ]
  },
  {
   "cell_type": "code",
   "execution_count": 35,
   "metadata": {
    "collapsed": true
   },
   "outputs": [],
   "source": [
    "categories = [\"burger\",\"sushi\",\"ice cream\",\"steak\",\"broccoli\"]"
   ]
  },
  {
   "cell_type": "code",
   "execution_count": 88,
   "metadata": {
    "collapsed": true
   },
   "outputs": [],
   "source": [
    "def color_mapper(categories):\n",
    "    colors = [\"green\",\"navy\",\"orange\",\"red\",\"purple\",\"cyan\"]\n",
    "    return dict(zip(sorted(set(categories)),colors))\n",
    "    #return [color_map[category] for category in categories]"
   ]
  },
  {
   "cell_type": "code",
   "execution_count": 42,
   "metadata": {},
   "outputs": [],
   "source": [
    "food_type = [categories[i] for i in random_generator(100,4,0)]"
   ]
  },
  {
   "cell_type": "code",
   "execution_count": 59,
   "metadata": {
    "collapsed": true
   },
   "outputs": [],
   "source": [
    "volume_consumed = list(random_generator(100,500,0))"
   ]
  },
  {
   "cell_type": "code",
   "execution_count": 83,
   "metadata": {},
   "outputs": [],
   "source": [
    "from collections import OrderedDict\n",
    "from bokeh.models.sources import ColumnDataSource"
   ]
  },
  {
   "cell_type": "code",
   "execution_count": 92,
   "metadata": {},
   "outputs": [
    {
     "data": {
      "text/html": [
       "<div>\n",
       "<table border=\"1\" class=\"dataframe\">\n",
       "  <thead>\n",
       "    <tr style=\"text-align: right;\">\n",
       "      <th></th>\n",
       "      <th>price</th>\n",
       "      <th>year</th>\n",
       "      <th>food_item</th>\n",
       "      <th>volume_consumed</th>\n",
       "    </tr>\n",
       "  </thead>\n",
       "  <tbody>\n",
       "    <tr>\n",
       "      <th>0</th>\n",
       "      <td>391</td>\n",
       "      <td>2012</td>\n",
       "      <td>broccoli</td>\n",
       "      <td>8</td>\n",
       "    </tr>\n",
       "    <tr>\n",
       "      <th>1</th>\n",
       "      <td>777</td>\n",
       "      <td>2012</td>\n",
       "      <td>broccoli</td>\n",
       "      <td>85</td>\n",
       "    </tr>\n",
       "    <tr>\n",
       "      <th>2</th>\n",
       "      <td>406</td>\n",
       "      <td>2012</td>\n",
       "      <td>steak</td>\n",
       "      <td>377</td>\n",
       "    </tr>\n",
       "    <tr>\n",
       "      <th>3</th>\n",
       "      <td>190</td>\n",
       "      <td>2012</td>\n",
       "      <td>broccoli</td>\n",
       "      <td>331</td>\n",
       "    </tr>\n",
       "    <tr>\n",
       "      <th>4</th>\n",
       "      <td>859</td>\n",
       "      <td>2012</td>\n",
       "      <td>ice cream</td>\n",
       "      <td>157</td>\n",
       "    </tr>\n",
       "  </tbody>\n",
       "</table>\n",
       "</div>"
      ],
      "text/plain": [
       "  price  year  food_item volume_consumed\n",
       "0   391  2012   broccoli               8\n",
       "1   777  2012   broccoli              85\n",
       "2   406  2012      steak             377\n",
       "3   190  2012   broccoli             331\n",
       "4   859  2012  ice cream             157"
      ]
     },
     "execution_count": 92,
     "metadata": {},
     "output_type": "execute_result"
    }
   ],
   "source": [
    "df = pd.DataFrame(data=[price,year,food_type,volume_consumed]).transpose()\n",
    "df.columns = [\"price\",\"year\",\"food_item\",\"volume_consumed\"]\n",
    "df.head()"
   ]
  },
  {
   "cell_type": "code",
   "execution_count": 93,
   "metadata": {},
   "outputs": [
    {
     "data": {
      "text/html": [
       "\n",
       "\n",
       "    <div class=\"bk-root\">\n",
       "        <div class=\"bk-plotdiv\" id=\"4bbda399-d47c-4c55-80a5-4d30ca138a13\"></div>\n",
       "    </div>\n",
       "<script type=\"text/javascript\">\n",
       "  \n",
       "  (function(global) {\n",
       "    function now() {\n",
       "      return new Date();\n",
       "    }\n",
       "  \n",
       "    var force = false;\n",
       "  \n",
       "    if (typeof (window._bokeh_onload_callbacks) === \"undefined\" || force === true) {\n",
       "      window._bokeh_onload_callbacks = [];\n",
       "      window._bokeh_is_loading = undefined;\n",
       "    }\n",
       "  \n",
       "  \n",
       "    \n",
       "    if (typeof (window._bokeh_timeout) === \"undefined\" || force === true) {\n",
       "      window._bokeh_timeout = Date.now() + 0;\n",
       "      window._bokeh_failed_load = false;\n",
       "    }\n",
       "  \n",
       "    var NB_LOAD_WARNING = {'data': {'text/html':\n",
       "       \"<div style='background-color: #fdd'>\\n\"+\n",
       "       \"<p>\\n\"+\n",
       "       \"BokehJS does not appear to have successfully loaded. If loading BokehJS from CDN, this \\n\"+\n",
       "       \"may be due to a slow or bad network connection. Possible fixes:\\n\"+\n",
       "       \"</p>\\n\"+\n",
       "       \"<ul>\\n\"+\n",
       "       \"<li>re-rerun `output_notebook()` to attempt to load from CDN again, or</li>\\n\"+\n",
       "       \"<li>use INLINE resources instead, as so:</li>\\n\"+\n",
       "       \"</ul>\\n\"+\n",
       "       \"<code>\\n\"+\n",
       "       \"from bokeh.resources import INLINE\\n\"+\n",
       "       \"output_notebook(resources=INLINE)\\n\"+\n",
       "       \"</code>\\n\"+\n",
       "       \"</div>\"}};\n",
       "  \n",
       "    function display_loaded() {\n",
       "      if (window.Bokeh !== undefined) {\n",
       "        var el = document.getElementById(\"4bbda399-d47c-4c55-80a5-4d30ca138a13\");\n",
       "        el.textContent = \"BokehJS \" + Bokeh.version + \" successfully loaded.\";\n",
       "      } else if (Date.now() < window._bokeh_timeout) {\n",
       "        setTimeout(display_loaded, 100)\n",
       "      }\n",
       "    }\n",
       "  \n",
       "    function run_callbacks() {\n",
       "      window._bokeh_onload_callbacks.forEach(function(callback) { callback() });\n",
       "      delete window._bokeh_onload_callbacks\n",
       "      console.info(\"Bokeh: all callbacks have finished\");\n",
       "    }\n",
       "  \n",
       "    function load_libs(js_urls, callback) {\n",
       "      window._bokeh_onload_callbacks.push(callback);\n",
       "      if (window._bokeh_is_loading > 0) {\n",
       "        console.log(\"Bokeh: BokehJS is being loaded, scheduling callback at\", now());\n",
       "        return null;\n",
       "      }\n",
       "      if (js_urls == null || js_urls.length === 0) {\n",
       "        run_callbacks();\n",
       "        return null;\n",
       "      }\n",
       "      console.log(\"Bokeh: BokehJS not loaded, scheduling load and callback at\", now());\n",
       "      window._bokeh_is_loading = js_urls.length;\n",
       "      for (var i = 0; i < js_urls.length; i++) {\n",
       "        var url = js_urls[i];\n",
       "        var s = document.createElement('script');\n",
       "        s.src = url;\n",
       "        s.async = false;\n",
       "        s.onreadystatechange = s.onload = function() {\n",
       "          window._bokeh_is_loading--;\n",
       "          if (window._bokeh_is_loading === 0) {\n",
       "            console.log(\"Bokeh: all BokehJS libraries loaded\");\n",
       "            run_callbacks()\n",
       "          }\n",
       "        };\n",
       "        s.onerror = function() {\n",
       "          console.warn(\"failed to load library \" + url);\n",
       "        };\n",
       "        console.log(\"Bokeh: injecting script tag for BokehJS library: \", url);\n",
       "        document.getElementsByTagName(\"head\")[0].appendChild(s);\n",
       "      }\n",
       "    };var element = document.getElementById(\"4bbda399-d47c-4c55-80a5-4d30ca138a13\");\n",
       "    if (element == null) {\n",
       "      console.log(\"Bokeh: ERROR: autoload.js configured with elementid '4bbda399-d47c-4c55-80a5-4d30ca138a13' but no matching script tag was found. \")\n",
       "      return false;\n",
       "    }\n",
       "  \n",
       "    var js_urls = [];\n",
       "  \n",
       "    var inline_js = [\n",
       "      function(Bokeh) {\n",
       "        (function() {\n",
       "          var fn = function() {\n",
       "            var docs_json = {\"eeca415f-da7c-4250-a52e-c35f97e583fe\":{\"roots\":{\"references\":[{\"attributes\":{\"plot\":{\"id\":\"fe9bc3d9-2293-4238-aa3a-38e1ba4275ce\",\"subtype\":\"Figure\",\"type\":\"Plot\"}},\"id\":\"51dd367e-45ef-4109-a319-d3872fac2522\",\"type\":\"SaveTool\"},{\"attributes\":{\"callback\":null,\"column_names\":[\"size\",\"x\",\"y\"],\"data\":{\"size\":[15.7,28.4,7.8,23.8,15.3,41.7,1.8,20.0,47.0,43.9,8.5,48.1,41.9],\"x\":[2012,2012,2012,2013,2013,2013,2014,2014,2015,2016,2016,2016,2016],\"y\":[859,982,906,904,957,69,667,889,620,771,161,381,499]}},\"id\":\"ce782000-15a9-4965-835f-6f7e0cd9f2ca\",\"type\":\"ColumnDataSource\"},{\"attributes\":{},\"id\":\"e80f2bf5-2c5d-4788-ae93-329f43e835c4\",\"type\":\"BasicTicker\"},{\"attributes\":{\"fill_alpha\":{\"value\":0.1},\"fill_color\":{\"value\":\"#1f77b4\"},\"line_alpha\":{\"value\":0.1},\"line_color\":{\"value\":\"#1f77b4\"},\"size\":{\"field\":\"size\",\"units\":\"screen\"},\"x\":{\"field\":\"x\"},\"y\":{\"field\":\"y\"}},\"id\":\"5d08c2b3-9c10-41bd-b712-9fd6c4c74cc2\",\"type\":\"Circle\"},{\"attributes\":{\"fill_alpha\":{\"value\":0.1},\"fill_color\":{\"value\":\"#1f77b4\"},\"line_alpha\":{\"value\":0.1},\"line_color\":{\"value\":\"#1f77b4\"},\"size\":{\"field\":\"size\",\"units\":\"screen\"},\"x\":{\"field\":\"x\"},\"y\":{\"field\":\"y\"}},\"id\":\"e2105e2d-d49b-4495-a73b-1a042d9c5f6b\",\"type\":\"Circle\"},{\"attributes\":{\"data_source\":{\"id\":\"2c7cb46f-1a43-4d25-8457-db0c28a130cf\",\"type\":\"ColumnDataSource\"},\"glyph\":{\"id\":\"28860a41-3752-43f4-8e94-aee72ef0dcc3\",\"type\":\"Circle\"},\"hover_glyph\":null,\"muted_glyph\":null,\"nonselection_glyph\":{\"id\":\"e2105e2d-d49b-4495-a73b-1a042d9c5f6b\",\"type\":\"Circle\"},\"selection_glyph\":null},\"id\":\"2dcfa092-d01c-4b1c-865b-48a7122a6e0a\",\"type\":\"GlyphRenderer\"},{\"attributes\":{\"plot\":null,\"text\":\"\"},\"id\":\"2aaa5a2c-ec3d-4cae-8d2e-6aba96f36c00\",\"type\":\"Title\"},{\"attributes\":{\"fill_alpha\":{\"value\":0.5},\"fill_color\":{\"value\":\"red\"},\"line_alpha\":{\"value\":0.5},\"line_color\":{\"value\":\"red\"},\"size\":{\"field\":\"size\",\"units\":\"screen\"},\"x\":{\"field\":\"x\"},\"y\":{\"field\":\"y\"}},\"id\":\"0967a99a-5a9b-4845-8140-5781e53e8d26\",\"type\":\"Circle\"},{\"attributes\":{\"plot\":{\"id\":\"fe9bc3d9-2293-4238-aa3a-38e1ba4275ce\",\"subtype\":\"Figure\",\"type\":\"Plot\"}},\"id\":\"fcdff136-35b8-4cee-b938-331ee332b185\",\"type\":\"WheelZoomTool\"},{\"attributes\":{\"fill_alpha\":{\"value\":0.5},\"fill_color\":{\"value\":\"orange\"},\"line_alpha\":{\"value\":0.5},\"line_color\":{\"value\":\"orange\"},\"size\":{\"field\":\"size\",\"units\":\"screen\"},\"x\":{\"field\":\"x\"},\"y\":{\"field\":\"y\"}},\"id\":\"6e73aec2-ff2a-4701-9f4c-b2336e5a2179\",\"type\":\"Circle\"},{\"attributes\":{\"fill_alpha\":{\"value\":0.1},\"fill_color\":{\"value\":\"#1f77b4\"},\"line_alpha\":{\"value\":0.1},\"line_color\":{\"value\":\"#1f77b4\"},\"size\":{\"field\":\"size\",\"units\":\"screen\"},\"x\":{\"field\":\"x\"},\"y\":{\"field\":\"y\"}},\"id\":\"02450c9c-28d7-487e-8fab-a7a6490e6529\",\"type\":\"Circle\"},{\"attributes\":{\"fill_alpha\":{\"value\":0.5},\"fill_color\":{\"value\":\"purple\"},\"line_alpha\":{\"value\":0.5},\"line_color\":{\"value\":\"purple\"},\"size\":{\"field\":\"size\",\"units\":\"screen\"},\"x\":{\"field\":\"x\"},\"y\":{\"field\":\"y\"}},\"id\":\"3cdc83a0-d3cb-46c8-a3a0-67d19b786a59\",\"type\":\"Circle\"},{\"attributes\":{\"plot\":{\"id\":\"fe9bc3d9-2293-4238-aa3a-38e1ba4275ce\",\"subtype\":\"Figure\",\"type\":\"Plot\"}},\"id\":\"23a7ba8d-2e87-46e6-bf22-e5b6e7c82919\",\"type\":\"ResetTool\"},{\"attributes\":{\"overlay\":{\"id\":\"4f4e028f-707c-4ad4-9a56-9e1d901310a6\",\"type\":\"BoxAnnotation\"},\"plot\":{\"id\":\"fe9bc3d9-2293-4238-aa3a-38e1ba4275ce\",\"subtype\":\"Figure\",\"type\":\"Plot\"}},\"id\":\"a58dfc35-5bbe-469e-9dba-02c9c6ee9a8d\",\"type\":\"BoxZoomTool\"},{\"attributes\":{},\"id\":\"b2a98a5d-d544-430f-b77e-ccf8ffad217d\",\"type\":\"BasicTicker\"},{\"attributes\":{\"callback\":null,\"column_names\":[\"size\",\"x\",\"y\"],\"data\":{\"size\":[0.8,8.5,33.1,36.8,34.5,11.6,29.6,17.4,46.7,45.6,44.8,28.2,41.1,37.1,31.5,49.3,15.1,6.8,45.8,36.0,33.6,16.9],\"x\":[2012,2012,2012,2012,2013,2013,2013,2013,2013,2013,2014,2014,2014,2014,2014,2014,2015,2015,2015,2016,2016,2016],\"y\":[391,777,190,45,166,735,90,679,118,81,242,40,892,374,269,326,951,85,363,472,214,593]}},\"id\":\"446a7320-936b-498d-a1f1-0e4ec3ebb4c2\",\"type\":\"ColumnDataSource\"},{\"attributes\":{},\"id\":\"d26e2304-fe29-4fd3-8c38-75ee9a5d49f9\",\"type\":\"BasicTickFormatter\"},{\"attributes\":{\"fill_alpha\":{\"value\":0.5},\"fill_color\":{\"value\":\"navy\"},\"line_alpha\":{\"value\":0.5},\"line_color\":{\"value\":\"navy\"},\"size\":{\"field\":\"size\",\"units\":\"screen\"},\"x\":{\"field\":\"x\"},\"y\":{\"field\":\"y\"}},\"id\":\"28860a41-3752-43f4-8e94-aee72ef0dcc3\",\"type\":\"Circle\"},{\"attributes\":{\"label\":{\"value\":\"steak\"},\"renderers\":[{\"id\":\"ce458b9c-a788-49fa-8d3e-520779c6ff5d\",\"type\":\"GlyphRenderer\"}]},\"id\":\"1c3ee319-3c53-4392-8c87-17d157cd7723\",\"type\":\"LegendItem\"},{\"attributes\":{},\"id\":\"cc1ec5f8-f34d-455a-a73a-e7c2e80cc9ee\",\"type\":\"ToolEvents\"},{\"attributes\":{\"callback\":null,\"column_names\":[\"size\",\"x\",\"y\"],\"data\":{\"size\":[19.5,13.3,45.9,41.9,45.6,12.0,9.7,35.3,21.3,9.1,41.9,34.5,3.5,35.3,47.4,11.9,44.3,39.3,29.5,17.8,31.1,18.8,6.8,35.0],\"x\":[2012,2012,2012,2013,2013,2013,2014,2014,2014,2014,2014,2015,2015,2015,2015,2015,2015,2015,2015,2016,2016,2016,2016,2016],\"y\":[362,473,880,120,447,77,933,979,105,654,764,662,361,928,754,746,476,91,40,808,268,718,632,915]}},\"id\":\"2c7cb46f-1a43-4d25-8457-db0c28a130cf\",\"type\":\"ColumnDataSource\"},{\"attributes\":{\"data_source\":{\"id\":\"ce782000-15a9-4965-835f-6f7e0cd9f2ca\",\"type\":\"ColumnDataSource\"},\"glyph\":{\"id\":\"6e73aec2-ff2a-4701-9f4c-b2336e5a2179\",\"type\":\"Circle\"},\"hover_glyph\":null,\"muted_glyph\":null,\"nonselection_glyph\":{\"id\":\"990d1a7c-0bd3-439a-967a-fdb3e34a24e4\",\"type\":\"Circle\"},\"selection_glyph\":null},\"id\":\"284c94d2-1f34-4622-afca-fdaf8da80745\",\"type\":\"GlyphRenderer\"},{\"attributes\":{\"fill_alpha\":{\"value\":0.1},\"fill_color\":{\"value\":\"#1f77b4\"},\"line_alpha\":{\"value\":0.1},\"line_color\":{\"value\":\"#1f77b4\"},\"size\":{\"field\":\"size\",\"units\":\"screen\"},\"x\":{\"field\":\"x\"},\"y\":{\"field\":\"y\"}},\"id\":\"3e0b094a-3b47-4311-a3a7-51025bee010e\",\"type\":\"Circle\"},{\"attributes\":{\"active_drag\":\"auto\",\"active_scroll\":\"auto\",\"active_tap\":\"auto\",\"tools\":[{\"id\":\"3277b316-902d-4a1f-9c9c-0e962b6342b4\",\"type\":\"PanTool\"},{\"id\":\"fcdff136-35b8-4cee-b938-331ee332b185\",\"type\":\"WheelZoomTool\"},{\"id\":\"a58dfc35-5bbe-469e-9dba-02c9c6ee9a8d\",\"type\":\"BoxZoomTool\"},{\"id\":\"51dd367e-45ef-4109-a319-d3872fac2522\",\"type\":\"SaveTool\"},{\"id\":\"23a7ba8d-2e87-46e6-bf22-e5b6e7c82919\",\"type\":\"ResetTool\"},{\"id\":\"810d154d-13e1-4f99-9e2d-0460ff8236aa\",\"type\":\"HelpTool\"}]},\"id\":\"e0de7cad-54f7-48d5-8f62-54e80bfda789\",\"type\":\"Toolbar\"},{\"attributes\":{\"plot\":{\"id\":\"fe9bc3d9-2293-4238-aa3a-38e1ba4275ce\",\"subtype\":\"Figure\",\"type\":\"Plot\"}},\"id\":\"810d154d-13e1-4f99-9e2d-0460ff8236aa\",\"type\":\"HelpTool\"},{\"attributes\":{\"label\":{\"value\":\"sushi\"},\"renderers\":[{\"id\":\"64f740c6-5500-4b0a-be04-0aa0419c82d0\",\"type\":\"GlyphRenderer\"}]},\"id\":\"a491a7ce-deaf-459e-a9d5-24c65d5a6770\",\"type\":\"LegendItem\"},{\"attributes\":{\"fill_alpha\":{\"value\":0.1},\"fill_color\":{\"value\":\"#1f77b4\"},\"line_alpha\":{\"value\":0.1},\"line_color\":{\"value\":\"#1f77b4\"},\"size\":{\"field\":\"size\",\"units\":\"screen\"},\"x\":{\"field\":\"x\"},\"y\":{\"field\":\"y\"}},\"id\":\"990d1a7c-0bd3-439a-967a-fdb3e34a24e4\",\"type\":\"Circle\"},{\"attributes\":{\"items\":[{\"id\":\"b6806904-2aaa-4ba7-b5a4-f234067885cd\",\"type\":\"LegendItem\"},{\"id\":\"a491a7ce-deaf-459e-a9d5-24c65d5a6770\",\"type\":\"LegendItem\"},{\"id\":\"f7757ff7-9415-44d5-97b4-7ae00868bc71\",\"type\":\"LegendItem\"},{\"id\":\"1c3ee319-3c53-4392-8c87-17d157cd7723\",\"type\":\"LegendItem\"},{\"id\":\"f256e17a-96ce-47f5-be81-df55c80b1e81\",\"type\":\"LegendItem\"}],\"plot\":{\"id\":\"fe9bc3d9-2293-4238-aa3a-38e1ba4275ce\",\"subtype\":\"Figure\",\"type\":\"Plot\"}},\"id\":\"592dbb38-8438-49dc-a882-9973f20b61be\",\"type\":\"Legend\"},{\"attributes\":{\"data_source\":{\"id\":\"d5562f31-ed0d-4e7d-84bf-2a0daa48d4aa\",\"type\":\"ColumnDataSource\"},\"glyph\":{\"id\":\"3cdc83a0-d3cb-46c8-a3a0-67d19b786a59\",\"type\":\"Circle\"},\"hover_glyph\":null,\"muted_glyph\":null,\"nonselection_glyph\":{\"id\":\"02450c9c-28d7-487e-8fab-a7a6490e6529\",\"type\":\"Circle\"},\"selection_glyph\":null},\"id\":\"64f740c6-5500-4b0a-be04-0aa0419c82d0\",\"type\":\"GlyphRenderer\"},{\"attributes\":{\"callback\":null,\"column_names\":[\"size\",\"x\",\"y\"],\"data\":{\"size\":[23.2,39.1,4.2,12.4,48.3,48.7,3.6,35.3,36.3,20.3,28.7,20.7,45.5,29.7,30.1,10.8,42.0,40.5,47.6,26.3,14.7,9.6,5.2,5.8,0.8,13.5],\"x\":[2012,2012,2012,2012,2012,2013,2013,2013,2013,2013,2013,2014,2014,2014,2014,2014,2014,2014,2015,2015,2015,2016,2016,2016,2016,2016],\"y\":[353,583,922,326,8,875,578,885,122,813,388,262,691,194,54,344,486,453,947,908,775,68,71,571,973,305]}},\"id\":\"d5562f31-ed0d-4e7d-84bf-2a0daa48d4aa\",\"type\":\"ColumnDataSource\"},{\"attributes\":{\"label\":{\"value\":\"burger\"},\"renderers\":[{\"id\":\"2dcfa092-d01c-4b1c-865b-48a7122a6e0a\",\"type\":\"GlyphRenderer\"}]},\"id\":\"b6806904-2aaa-4ba7-b5a4-f234067885cd\",\"type\":\"LegendItem\"},{\"attributes\":{\"callback\":null,\"column_names\":[\"size\",\"x\",\"y\"],\"data\":{\"size\":[37.7,36.5,2.9,10.7,49.8,46.7,22.4,46.2,27.6,1.7,22.3,21.7,1.7,44.7,1.2],\"x\":[2012,2012,2012,2012,2012,2013,2013,2015,2015,2015,2015,2015,2016,2016,2016],\"y\":[406,948,309,710,426,398,992,882,811,628,295,388,276,541,503]}},\"id\":\"aa89152a-268b-45e6-9ee3-1ebf418e8bf7\",\"type\":\"ColumnDataSource\"},{\"attributes\":{\"plot\":{\"id\":\"fe9bc3d9-2293-4238-aa3a-38e1ba4275ce\",\"subtype\":\"Figure\",\"type\":\"Plot\"},\"ticker\":{\"id\":\"b2a98a5d-d544-430f-b77e-ccf8ffad217d\",\"type\":\"BasicTicker\"}},\"id\":\"1db8bd9d-4321-4630-80da-0a707e7c6ab1\",\"type\":\"Grid\"},{\"attributes\":{\"data_source\":{\"id\":\"446a7320-936b-498d-a1f1-0e4ec3ebb4c2\",\"type\":\"ColumnDataSource\"},\"glyph\":{\"id\":\"28fffdbc-90db-44d5-84d7-3bf337bc2d83\",\"type\":\"Circle\"},\"hover_glyph\":null,\"muted_glyph\":null,\"nonselection_glyph\":{\"id\":\"3e0b094a-3b47-4311-a3a7-51025bee010e\",\"type\":\"Circle\"},\"selection_glyph\":null},\"id\":\"ee0c2e22-2f9e-456d-8ec7-423077d99c4e\",\"type\":\"GlyphRenderer\"},{\"attributes\":{\"below\":[{\"id\":\"8715dcfd-8295-4e92-aa05-b3a798c28841\",\"type\":\"LinearAxis\"}],\"left\":[{\"id\":\"47c9f28b-4907-4144-89cd-fc63bc8066fd\",\"type\":\"LinearAxis\"}],\"renderers\":[{\"id\":\"8715dcfd-8295-4e92-aa05-b3a798c28841\",\"type\":\"LinearAxis\"},{\"id\":\"1db8bd9d-4321-4630-80da-0a707e7c6ab1\",\"type\":\"Grid\"},{\"id\":\"47c9f28b-4907-4144-89cd-fc63bc8066fd\",\"type\":\"LinearAxis\"},{\"id\":\"ef53648f-b50b-4066-a6ad-a93b3b98974c\",\"type\":\"Grid\"},{\"id\":\"4f4e028f-707c-4ad4-9a56-9e1d901310a6\",\"type\":\"BoxAnnotation\"},{\"id\":\"592dbb38-8438-49dc-a882-9973f20b61be\",\"type\":\"Legend\"},{\"id\":\"2dcfa092-d01c-4b1c-865b-48a7122a6e0a\",\"type\":\"GlyphRenderer\"},{\"id\":\"64f740c6-5500-4b0a-be04-0aa0419c82d0\",\"type\":\"GlyphRenderer\"},{\"id\":\"284c94d2-1f34-4622-afca-fdaf8da80745\",\"type\":\"GlyphRenderer\"},{\"id\":\"ce458b9c-a788-49fa-8d3e-520779c6ff5d\",\"type\":\"GlyphRenderer\"},{\"id\":\"ee0c2e22-2f9e-456d-8ec7-423077d99c4e\",\"type\":\"GlyphRenderer\"}],\"title\":{\"id\":\"2aaa5a2c-ec3d-4cae-8d2e-6aba96f36c00\",\"type\":\"Title\"},\"tool_events\":{\"id\":\"cc1ec5f8-f34d-455a-a73a-e7c2e80cc9ee\",\"type\":\"ToolEvents\"},\"toolbar\":{\"id\":\"e0de7cad-54f7-48d5-8f62-54e80bfda789\",\"type\":\"Toolbar\"},\"x_range\":{\"id\":\"5e8e9d9f-3083-4df5-a0b3-f7d8a206306e\",\"type\":\"DataRange1d\"},\"y_range\":{\"id\":\"0e448ded-be61-4e2e-bfcc-2a7b6e84f922\",\"type\":\"DataRange1d\"}},\"id\":\"fe9bc3d9-2293-4238-aa3a-38e1ba4275ce\",\"subtype\":\"Figure\",\"type\":\"Plot\"},{\"attributes\":{\"dimension\":1,\"plot\":{\"id\":\"fe9bc3d9-2293-4238-aa3a-38e1ba4275ce\",\"subtype\":\"Figure\",\"type\":\"Plot\"},\"ticker\":{\"id\":\"e80f2bf5-2c5d-4788-ae93-329f43e835c4\",\"type\":\"BasicTicker\"}},\"id\":\"ef53648f-b50b-4066-a6ad-a93b3b98974c\",\"type\":\"Grid\"},{\"attributes\":{\"label\":{\"value\":\"broccoli\"},\"renderers\":[{\"id\":\"ee0c2e22-2f9e-456d-8ec7-423077d99c4e\",\"type\":\"GlyphRenderer\"}]},\"id\":\"f256e17a-96ce-47f5-be81-df55c80b1e81\",\"type\":\"LegendItem\"},{\"attributes\":{\"plot\":{\"id\":\"fe9bc3d9-2293-4238-aa3a-38e1ba4275ce\",\"subtype\":\"Figure\",\"type\":\"Plot\"}},\"id\":\"3277b316-902d-4a1f-9c9c-0e962b6342b4\",\"type\":\"PanTool\"},{\"attributes\":{\"label\":{\"value\":\"ice cream\"},\"renderers\":[{\"id\":\"284c94d2-1f34-4622-afca-fdaf8da80745\",\"type\":\"GlyphRenderer\"}]},\"id\":\"f7757ff7-9415-44d5-97b4-7ae00868bc71\",\"type\":\"LegendItem\"},{\"attributes\":{},\"id\":\"b8bea2c1-2a06-4d8e-9b5a-d53346a7c2c8\",\"type\":\"BasicTickFormatter\"},{\"attributes\":{\"bottom_units\":\"screen\",\"fill_alpha\":{\"value\":0.5},\"fill_color\":{\"value\":\"lightgrey\"},\"left_units\":\"screen\",\"level\":\"overlay\",\"line_alpha\":{\"value\":1.0},\"line_color\":{\"value\":\"black\"},\"line_dash\":[4,4],\"line_width\":{\"value\":2},\"plot\":null,\"render_mode\":\"css\",\"right_units\":\"screen\",\"top_units\":\"screen\"},\"id\":\"4f4e028f-707c-4ad4-9a56-9e1d901310a6\",\"type\":\"BoxAnnotation\"},{\"attributes\":{\"fill_alpha\":{\"value\":0.5},\"fill_color\":{\"value\":\"green\"},\"line_alpha\":{\"value\":0.5},\"line_color\":{\"value\":\"green\"},\"size\":{\"field\":\"size\",\"units\":\"screen\"},\"x\":{\"field\":\"x\"},\"y\":{\"field\":\"y\"}},\"id\":\"28fffdbc-90db-44d5-84d7-3bf337bc2d83\",\"type\":\"Circle\"},{\"attributes\":{\"formatter\":{\"id\":\"d26e2304-fe29-4fd3-8c38-75ee9a5d49f9\",\"type\":\"BasicTickFormatter\"},\"plot\":{\"id\":\"fe9bc3d9-2293-4238-aa3a-38e1ba4275ce\",\"subtype\":\"Figure\",\"type\":\"Plot\"},\"ticker\":{\"id\":\"e80f2bf5-2c5d-4788-ae93-329f43e835c4\",\"type\":\"BasicTicker\"}},\"id\":\"47c9f28b-4907-4144-89cd-fc63bc8066fd\",\"type\":\"LinearAxis\"},{\"attributes\":{\"callback\":null},\"id\":\"5e8e9d9f-3083-4df5-a0b3-f7d8a206306e\",\"type\":\"DataRange1d\"},{\"attributes\":{\"formatter\":{\"id\":\"b8bea2c1-2a06-4d8e-9b5a-d53346a7c2c8\",\"type\":\"BasicTickFormatter\"},\"plot\":{\"id\":\"fe9bc3d9-2293-4238-aa3a-38e1ba4275ce\",\"subtype\":\"Figure\",\"type\":\"Plot\"},\"ticker\":{\"id\":\"b2a98a5d-d544-430f-b77e-ccf8ffad217d\",\"type\":\"BasicTicker\"}},\"id\":\"8715dcfd-8295-4e92-aa05-b3a798c28841\",\"type\":\"LinearAxis\"},{\"attributes\":{\"data_source\":{\"id\":\"aa89152a-268b-45e6-9ee3-1ebf418e8bf7\",\"type\":\"ColumnDataSource\"},\"glyph\":{\"id\":\"0967a99a-5a9b-4845-8140-5781e53e8d26\",\"type\":\"Circle\"},\"hover_glyph\":null,\"muted_glyph\":null,\"nonselection_glyph\":{\"id\":\"5d08c2b3-9c10-41bd-b712-9fd6c4c74cc2\",\"type\":\"Circle\"},\"selection_glyph\":null},\"id\":\"ce458b9c-a788-49fa-8d3e-520779c6ff5d\",\"type\":\"GlyphRenderer\"},{\"attributes\":{\"callback\":null},\"id\":\"0e448ded-be61-4e2e-bfcc-2a7b6e84f922\",\"type\":\"DataRange1d\"}],\"root_ids\":[\"fe9bc3d9-2293-4238-aa3a-38e1ba4275ce\"]},\"title\":\"Bokeh Application\",\"version\":\"0.12.5\"}};\n",
       "            var render_items = [{\"docid\":\"eeca415f-da7c-4250-a52e-c35f97e583fe\",\"elementid\":\"4bbda399-d47c-4c55-80a5-4d30ca138a13\",\"modelid\":\"fe9bc3d9-2293-4238-aa3a-38e1ba4275ce\"}];\n",
       "            \n",
       "            Bokeh.embed.embed_items(docs_json, render_items);\n",
       "          };\n",
       "          if (document.readyState != \"loading\") fn();\n",
       "          else document.addEventListener(\"DOMContentLoaded\", fn);\n",
       "        })();\n",
       "      },\n",
       "      function(Bokeh) {\n",
       "      }\n",
       "    ];\n",
       "  \n",
       "    function run_inline_js() {\n",
       "      \n",
       "      if ((window.Bokeh !== undefined) || (force === true)) {\n",
       "        for (var i = 0; i < inline_js.length; i++) {\n",
       "          inline_js[i](window.Bokeh);\n",
       "        }if (force === true) {\n",
       "          display_loaded();\n",
       "        }} else if (Date.now() < window._bokeh_timeout) {\n",
       "        setTimeout(run_inline_js, 100);\n",
       "      } else if (!window._bokeh_failed_load) {\n",
       "        console.log(\"Bokeh: BokehJS failed to load within specified timeout.\");\n",
       "        window._bokeh_failed_load = true;\n",
       "      } else if (force !== true) {\n",
       "        var cell = $(document.getElementById(\"4bbda399-d47c-4c55-80a5-4d30ca138a13\")).parents('.cell').data().cell;\n",
       "        cell.output_area.append_execute_result(NB_LOAD_WARNING)\n",
       "      }\n",
       "  \n",
       "    }\n",
       "  \n",
       "    if (window._bokeh_is_loading === 0) {\n",
       "      console.log(\"Bokeh: BokehJS loaded, going straight to plotting\");\n",
       "      run_inline_js();\n",
       "    } else {\n",
       "      load_libs(js_urls, function() {\n",
       "        console.log(\"Bokeh: BokehJS plotting callback run at\", now());\n",
       "        run_inline_js();\n",
       "      });\n",
       "    }\n",
       "  }(this));\n",
       "</script>"
      ]
     },
     "metadata": {},
     "output_type": "display_data"
    }
   ],
   "source": [
    "p = figure()\n",
    "color_dict=color_mapper(food_type)\n",
    "for category in categories:\n",
    "    index = df.food_item == category\n",
    "    p.circle(df.year[index],df.price[index],size=(df.volume_consumed[index]/10), color=color_dict[category],alpha=0.5,legend=category)\n",
    "\n",
    "show(p)"
   ]
  }
 ],
 "metadata": {
  "kernelspec": {
   "display_name": "python_from_venv",
   "language": "python",
   "name": "python_from_venv"
  },
  "language_info": {
   "codemirror_mode": {
    "name": "ipython",
    "version": 3
   },
   "file_extension": ".py",
   "mimetype": "text/x-python",
   "name": "python",
   "nbconvert_exporter": "python",
   "pygments_lexer": "ipython3",
   "version": "3.5.2"
  }
 },
 "nbformat": 4,
 "nbformat_minor": 2
}
