{
 "cells": [
  {
   "cell_type": "code",
   "execution_count": 2,
   "metadata": {},
   "outputs": [
    {
     "name": "stdout",
     "output_type": "stream",
     "text": [
      "Requirement already satisfied: bokeh in /Users/charlyetran/Documents/bokeh/venv/lib/python3.5/site-packages\r\n",
      "Requirement already satisfied: requests>=1.2.3 in /Users/charlyetran/Documents/bokeh/venv/lib/python3.5/site-packages (from bokeh)\r\n",
      "Requirement already satisfied: PyYAML>=3.10 in /Users/charlyetran/Documents/bokeh/venv/lib/python3.5/site-packages (from bokeh)\r\n",
      "Requirement already satisfied: six>=1.5.2 in /Users/charlyetran/Documents/bokeh/venv/lib/python3.5/site-packages (from bokeh)\r\n",
      "Requirement already satisfied: tornado>=4.3 in /Users/charlyetran/Documents/bokeh/venv/lib/python3.5/site-packages (from bokeh)\r\n",
      "Requirement already satisfied: Jinja2>=2.7 in /Users/charlyetran/Documents/bokeh/venv/lib/python3.5/site-packages (from bokeh)\r\n",
      "Requirement already satisfied: numpy>=1.7.1 in /Users/charlyetran/Documents/bokeh/venv/lib/python3.5/site-packages (from bokeh)\r\n",
      "Requirement already satisfied: python-dateutil>=2.1 in /Users/charlyetran/Documents/bokeh/venv/lib/python3.5/site-packages (from bokeh)\r\n",
      "Requirement already satisfied: MarkupSafe>=0.23 in /Users/charlyetran/Documents/bokeh/venv/lib/python3.5/site-packages (from Jinja2>=2.7->bokeh)\r\n"
     ]
    }
   ],
   "source": [
    "!pip install bokeh"
   ]
  },
  {
   "cell_type": "code",
   "execution_count": 5,
   "metadata": {},
   "outputs": [
    {
     "data": {
      "text/html": [
       "\n",
       "    <div class=\"bk-root\">\n",
       "        <a href=\"http://bokeh.pydata.org\" target=\"_blank\" class=\"bk-logo bk-logo-small bk-logo-notebook\"></a>\n",
       "        <span id=\"e90f2e7b-f2ab-475c-9c9a-e776f0f1bb7b\">Loading BokehJS ...</span>\n",
       "    </div>"
      ]
     },
     "metadata": {},
     "output_type": "display_data"
    },
    {
     "data": {
      "application/javascript": [
       "\n",
       "(function(global) {\n",
       "  function now() {\n",
       "    return new Date();\n",
       "  }\n",
       "\n",
       "  var force = true;\n",
       "\n",
       "  if (typeof (window._bokeh_onload_callbacks) === \"undefined\" || force === true) {\n",
       "    window._bokeh_onload_callbacks = [];\n",
       "    window._bokeh_is_loading = undefined;\n",
       "  }\n",
       "\n",
       "\n",
       "  \n",
       "  if (typeof (window._bokeh_timeout) === \"undefined\" || force === true) {\n",
       "    window._bokeh_timeout = Date.now() + 5000;\n",
       "    window._bokeh_failed_load = false;\n",
       "  }\n",
       "\n",
       "  var NB_LOAD_WARNING = {'data': {'text/html':\n",
       "     \"<div style='background-color: #fdd'>\\n\"+\n",
       "     \"<p>\\n\"+\n",
       "     \"BokehJS does not appear to have successfully loaded. If loading BokehJS from CDN, this \\n\"+\n",
       "     \"may be due to a slow or bad network connection. Possible fixes:\\n\"+\n",
       "     \"</p>\\n\"+\n",
       "     \"<ul>\\n\"+\n",
       "     \"<li>re-rerun `output_notebook()` to attempt to load from CDN again, or</li>\\n\"+\n",
       "     \"<li>use INLINE resources instead, as so:</li>\\n\"+\n",
       "     \"</ul>\\n\"+\n",
       "     \"<code>\\n\"+\n",
       "     \"from bokeh.resources import INLINE\\n\"+\n",
       "     \"output_notebook(resources=INLINE)\\n\"+\n",
       "     \"</code>\\n\"+\n",
       "     \"</div>\"}};\n",
       "\n",
       "  function display_loaded() {\n",
       "    if (window.Bokeh !== undefined) {\n",
       "      var el = document.getElementById(\"e90f2e7b-f2ab-475c-9c9a-e776f0f1bb7b\");\n",
       "      el.textContent = \"BokehJS \" + Bokeh.version + \" successfully loaded.\";\n",
       "    } else if (Date.now() < window._bokeh_timeout) {\n",
       "      setTimeout(display_loaded, 100)\n",
       "    }\n",
       "  }\n",
       "\n",
       "  function run_callbacks() {\n",
       "    window._bokeh_onload_callbacks.forEach(function(callback) { callback() });\n",
       "    delete window._bokeh_onload_callbacks\n",
       "    console.info(\"Bokeh: all callbacks have finished\");\n",
       "  }\n",
       "\n",
       "  function load_libs(js_urls, callback) {\n",
       "    window._bokeh_onload_callbacks.push(callback);\n",
       "    if (window._bokeh_is_loading > 0) {\n",
       "      console.log(\"Bokeh: BokehJS is being loaded, scheduling callback at\", now());\n",
       "      return null;\n",
       "    }\n",
       "    if (js_urls == null || js_urls.length === 0) {\n",
       "      run_callbacks();\n",
       "      return null;\n",
       "    }\n",
       "    console.log(\"Bokeh: BokehJS not loaded, scheduling load and callback at\", now());\n",
       "    window._bokeh_is_loading = js_urls.length;\n",
       "    for (var i = 0; i < js_urls.length; i++) {\n",
       "      var url = js_urls[i];\n",
       "      var s = document.createElement('script');\n",
       "      s.src = url;\n",
       "      s.async = false;\n",
       "      s.onreadystatechange = s.onload = function() {\n",
       "        window._bokeh_is_loading--;\n",
       "        if (window._bokeh_is_loading === 0) {\n",
       "          console.log(\"Bokeh: all BokehJS libraries loaded\");\n",
       "          run_callbacks()\n",
       "        }\n",
       "      };\n",
       "      s.onerror = function() {\n",
       "        console.warn(\"failed to load library \" + url);\n",
       "      };\n",
       "      console.log(\"Bokeh: injecting script tag for BokehJS library: \", url);\n",
       "      document.getElementsByTagName(\"head\")[0].appendChild(s);\n",
       "    }\n",
       "  };var element = document.getElementById(\"e90f2e7b-f2ab-475c-9c9a-e776f0f1bb7b\");\n",
       "  if (element == null) {\n",
       "    console.log(\"Bokeh: ERROR: autoload.js configured with elementid 'e90f2e7b-f2ab-475c-9c9a-e776f0f1bb7b' but no matching script tag was found. \")\n",
       "    return false;\n",
       "  }\n",
       "\n",
       "  var js_urls = [\"https://cdn.pydata.org/bokeh/release/bokeh-0.12.5.min.js\", \"https://cdn.pydata.org/bokeh/release/bokeh-widgets-0.12.5.min.js\"];\n",
       "\n",
       "  var inline_js = [\n",
       "    function(Bokeh) {\n",
       "      Bokeh.set_log_level(\"info\");\n",
       "    },\n",
       "    \n",
       "    function(Bokeh) {\n",
       "      \n",
       "    },\n",
       "    \n",
       "    function(Bokeh) {\n",
       "      \n",
       "      document.getElementById(\"e90f2e7b-f2ab-475c-9c9a-e776f0f1bb7b\").textContent = \"BokehJS is loading...\";\n",
       "    },\n",
       "    function(Bokeh) {\n",
       "      console.log(\"Bokeh: injecting CSS: https://cdn.pydata.org/bokeh/release/bokeh-0.12.5.min.css\");\n",
       "      Bokeh.embed.inject_css(\"https://cdn.pydata.org/bokeh/release/bokeh-0.12.5.min.css\");\n",
       "      console.log(\"Bokeh: injecting CSS: https://cdn.pydata.org/bokeh/release/bokeh-widgets-0.12.5.min.css\");\n",
       "      Bokeh.embed.inject_css(\"https://cdn.pydata.org/bokeh/release/bokeh-widgets-0.12.5.min.css\");\n",
       "    }\n",
       "  ];\n",
       "\n",
       "  function run_inline_js() {\n",
       "    \n",
       "    if ((window.Bokeh !== undefined) || (force === true)) {\n",
       "      for (var i = 0; i < inline_js.length; i++) {\n",
       "        inline_js[i](window.Bokeh);\n",
       "      }if (force === true) {\n",
       "        display_loaded();\n",
       "      }} else if (Date.now() < window._bokeh_timeout) {\n",
       "      setTimeout(run_inline_js, 100);\n",
       "    } else if (!window._bokeh_failed_load) {\n",
       "      console.log(\"Bokeh: BokehJS failed to load within specified timeout.\");\n",
       "      window._bokeh_failed_load = true;\n",
       "    } else if (force !== true) {\n",
       "      var cell = $(document.getElementById(\"e90f2e7b-f2ab-475c-9c9a-e776f0f1bb7b\")).parents('.cell').data().cell;\n",
       "      cell.output_area.append_execute_result(NB_LOAD_WARNING)\n",
       "    }\n",
       "\n",
       "  }\n",
       "\n",
       "  if (window._bokeh_is_loading === 0) {\n",
       "    console.log(\"Bokeh: BokehJS loaded, going straight to plotting\");\n",
       "    run_inline_js();\n",
       "  } else {\n",
       "    load_libs(js_urls, function() {\n",
       "      console.log(\"Bokeh: BokehJS plotting callback run at\", now());\n",
       "      run_inline_js();\n",
       "    });\n",
       "  }\n",
       "}(this));"
      ]
     },
     "metadata": {},
     "output_type": "display_data"
    }
   ],
   "source": [
    "from bokeh.plotting import figure, show\n",
    "from bokeh.io import output_notebook\n",
    "output_notebook()"
   ]
  },
  {
   "cell_type": "code",
   "execution_count": 54,
   "metadata": {},
   "outputs": [],
   "source": [
    "import numpy as np\n",
    "import pandas as pd"
   ]
  },
  {
   "cell_type": "code",
   "execution_count": 53,
   "metadata": {},
   "outputs": [
    {
     "name": "stdout",
     "output_type": "stream",
     "text": [
      "Collecting pandas\n",
      "  Downloading pandas-0.19.2-cp35-cp35m-macosx_10_6_intel.macosx_10_9_intel.macosx_10_9_x86_64.macosx_10_10_intel.macosx_10_10_x86_64.whl (11.6MB)\n",
      "\u001b[K    100% |████████████████████████████████| 11.6MB 93kB/s  eta 0:00:01    94% |██████████████████████████████▎ | 11.0MB 62.5MB/s eta 0:00:01\n",
      "\u001b[?25hRequirement already satisfied: python-dateutil>=2 in /Users/charlyetran/Documents/bokeh/venv/lib/python3.5/site-packages (from pandas)\n",
      "Requirement already satisfied: numpy>=1.7.0 in /Users/charlyetran/Documents/bokeh/venv/lib/python3.5/site-packages (from pandas)\n",
      "Collecting pytz>=2011k (from pandas)\n",
      "  Downloading pytz-2017.2-py2.py3-none-any.whl (484kB)\n",
      "\u001b[K    100% |████████████████████████████████| 491kB 2.7MB/s eta 0:00:01\n",
      "\u001b[?25hRequirement already satisfied: six>=1.5 in /Users/charlyetran/Documents/bokeh/venv/lib/python3.5/site-packages (from python-dateutil>=2->pandas)\n",
      "Installing collected packages: pytz, pandas\n",
      "Successfully installed pandas-0.19.2 pytz-2017.2\n"
     ]
    }
   ],
   "source": [
    "!pip install pandas"
   ]
  },
  {
   "cell_type": "code",
   "execution_count": 55,
   "metadata": {},
   "outputs": [],
   "source": [
    "from random import randint\n",
    "from bokeh.charts import Scatter"
   ]
  },
  {
   "cell_type": "code",
   "execution_count": 16,
   "metadata": {
    "collapsed": true
   },
   "outputs": [],
   "source": [
    "def random_generator(numbers,upper_bound=100000,lower_bound=1):\n",
    "    return [randint(lower_bound,upper_bound) for i in range(numbers)]"
   ]
  },
  {
   "cell_type": "code",
   "execution_count": 15,
   "metadata": {
    "collapsed": true
   },
   "outputs": [],
   "source": [
    "price = random_generator(100)"
   ]
  },
  {
   "cell_type": "code",
   "execution_count": 47,
   "metadata": {},
   "outputs": [],
   "source": [
    "#year = random_generator(100,2017,2010)\n",
    "from itertools import chain\n",
    "year = list(chain(*[[y] *20 for y in range(2012,2017)]))"
   ]
  },
  {
   "cell_type": "code",
   "execution_count": 35,
   "metadata": {
    "collapsed": true
   },
   "outputs": [],
   "source": [
    "categories = [\"burger\",\"sushi\",\"ice cream\",\"steak\",\"broccoli\"]"
   ]
  },
  {
   "cell_type": "code",
   "execution_count": 85,
   "metadata": {
    "collapsed": true
   },
   "outputs": [],
   "source": [
    "def color_mapper(categories):\n",
    "    colors = [\"red\",\"navy\",\"orange\",\"green\",\"purple\",\"cyan\"]\n",
    "    return dict(zip(sorted(set(categories)),colors))\n",
    "    #return [color_map[category] for category in categories]"
   ]
  },
  {
   "cell_type": "code",
   "execution_count": 42,
   "metadata": {},
   "outputs": [],
   "source": [
    "food_type = [categories[i] for i in random_generator(100,4,0)]"
   ]
  },
  {
   "cell_type": "code",
   "execution_count": 59,
   "metadata": {
    "collapsed": true
   },
   "outputs": [],
   "source": [
    "volume_consumed = list(random_generator(100,500,0))"
   ]
  },
  {
   "cell_type": "code",
   "execution_count": 83,
   "metadata": {},
   "outputs": [],
   "source": [
    "from collections import OrderedDict\n",
    "from bokeh.models.sources import ColumnDataSource"
   ]
  },
  {
   "cell_type": "code",
   "execution_count": 80,
   "metadata": {},
   "outputs": [
    {
     "data": {
      "text/html": [
       "<div>\n",
       "<table border=\"1\" class=\"dataframe\">\n",
       "  <thead>\n",
       "    <tr style=\"text-align: right;\">\n",
       "      <th></th>\n",
       "      <th>price</th>\n",
       "      <th>year</th>\n",
       "      <th>food_item</th>\n",
       "      <th>volume_consumed</th>\n",
       "    </tr>\n",
       "  </thead>\n",
       "  <tbody>\n",
       "    <tr>\n",
       "      <th>0</th>\n",
       "      <td>39404</td>\n",
       "      <td>2012</td>\n",
       "      <td>broccoli</td>\n",
       "      <td>8</td>\n",
       "    </tr>\n",
       "    <tr>\n",
       "      <th>1</th>\n",
       "      <td>80466</td>\n",
       "      <td>2012</td>\n",
       "      <td>broccoli</td>\n",
       "      <td>85</td>\n",
       "    </tr>\n",
       "    <tr>\n",
       "      <th>2</th>\n",
       "      <td>98794</td>\n",
       "      <td>2012</td>\n",
       "      <td>steak</td>\n",
       "      <td>377</td>\n",
       "    </tr>\n",
       "    <tr>\n",
       "      <th>3</th>\n",
       "      <td>42643</td>\n",
       "      <td>2012</td>\n",
       "      <td>broccoli</td>\n",
       "      <td>331</td>\n",
       "    </tr>\n",
       "    <tr>\n",
       "      <th>4</th>\n",
       "      <td>16669</td>\n",
       "      <td>2012</td>\n",
       "      <td>ice cream</td>\n",
       "      <td>157</td>\n",
       "    </tr>\n",
       "  </tbody>\n",
       "</table>\n",
       "</div>"
      ],
      "text/plain": [
       "   price  year  food_item volume_consumed\n",
       "0  39404  2012   broccoli               8\n",
       "1  80466  2012   broccoli              85\n",
       "2  98794  2012      steak             377\n",
       "3  42643  2012   broccoli             331\n",
       "4  16669  2012  ice cream             157"
      ]
     },
     "execution_count": 80,
     "metadata": {},
     "output_type": "execute_result"
    }
   ],
   "source": [
    "df = pd.DataFrame(data=[price,year,food_type,volume_consumed]).transpose()\n",
    "df.columns = [\"price\",\"year\",\"food_item\",\"volume_consumed\"]\n",
    "df.head()"
   ]
  },
  {
   "cell_type": "code",
   "execution_count": 50,
   "metadata": {},
   "outputs": [
    {
     "data": {
      "text/html": [
       "\n",
       "\n",
       "    <div class=\"bk-root\">\n",
       "        <div class=\"bk-plotdiv\" id=\"f952a10c-7c12-4b18-a9ec-e610e7a74bd0\"></div>\n",
       "    </div>\n",
       "<script type=\"text/javascript\">\n",
       "  \n",
       "  (function(global) {\n",
       "    function now() {\n",
       "      return new Date();\n",
       "    }\n",
       "  \n",
       "    var force = false;\n",
       "  \n",
       "    if (typeof (window._bokeh_onload_callbacks) === \"undefined\" || force === true) {\n",
       "      window._bokeh_onload_callbacks = [];\n",
       "      window._bokeh_is_loading = undefined;\n",
       "    }\n",
       "  \n",
       "  \n",
       "    \n",
       "    if (typeof (window._bokeh_timeout) === \"undefined\" || force === true) {\n",
       "      window._bokeh_timeout = Date.now() + 0;\n",
       "      window._bokeh_failed_load = false;\n",
       "    }\n",
       "  \n",
       "    var NB_LOAD_WARNING = {'data': {'text/html':\n",
       "       \"<div style='background-color: #fdd'>\\n\"+\n",
       "       \"<p>\\n\"+\n",
       "       \"BokehJS does not appear to have successfully loaded. If loading BokehJS from CDN, this \\n\"+\n",
       "       \"may be due to a slow or bad network connection. Possible fixes:\\n\"+\n",
       "       \"</p>\\n\"+\n",
       "       \"<ul>\\n\"+\n",
       "       \"<li>re-rerun `output_notebook()` to attempt to load from CDN again, or</li>\\n\"+\n",
       "       \"<li>use INLINE resources instead, as so:</li>\\n\"+\n",
       "       \"</ul>\\n\"+\n",
       "       \"<code>\\n\"+\n",
       "       \"from bokeh.resources import INLINE\\n\"+\n",
       "       \"output_notebook(resources=INLINE)\\n\"+\n",
       "       \"</code>\\n\"+\n",
       "       \"</div>\"}};\n",
       "  \n",
       "    function display_loaded() {\n",
       "      if (window.Bokeh !== undefined) {\n",
       "        var el = document.getElementById(\"f952a10c-7c12-4b18-a9ec-e610e7a74bd0\");\n",
       "        el.textContent = \"BokehJS \" + Bokeh.version + \" successfully loaded.\";\n",
       "      } else if (Date.now() < window._bokeh_timeout) {\n",
       "        setTimeout(display_loaded, 100)\n",
       "      }\n",
       "    }\n",
       "  \n",
       "    function run_callbacks() {\n",
       "      window._bokeh_onload_callbacks.forEach(function(callback) { callback() });\n",
       "      delete window._bokeh_onload_callbacks\n",
       "      console.info(\"Bokeh: all callbacks have finished\");\n",
       "    }\n",
       "  \n",
       "    function load_libs(js_urls, callback) {\n",
       "      window._bokeh_onload_callbacks.push(callback);\n",
       "      if (window._bokeh_is_loading > 0) {\n",
       "        console.log(\"Bokeh: BokehJS is being loaded, scheduling callback at\", now());\n",
       "        return null;\n",
       "      }\n",
       "      if (js_urls == null || js_urls.length === 0) {\n",
       "        run_callbacks();\n",
       "        return null;\n",
       "      }\n",
       "      console.log(\"Bokeh: BokehJS not loaded, scheduling load and callback at\", now());\n",
       "      window._bokeh_is_loading = js_urls.length;\n",
       "      for (var i = 0; i < js_urls.length; i++) {\n",
       "        var url = js_urls[i];\n",
       "        var s = document.createElement('script');\n",
       "        s.src = url;\n",
       "        s.async = false;\n",
       "        s.onreadystatechange = s.onload = function() {\n",
       "          window._bokeh_is_loading--;\n",
       "          if (window._bokeh_is_loading === 0) {\n",
       "            console.log(\"Bokeh: all BokehJS libraries loaded\");\n",
       "            run_callbacks()\n",
       "          }\n",
       "        };\n",
       "        s.onerror = function() {\n",
       "          console.warn(\"failed to load library \" + url);\n",
       "        };\n",
       "        console.log(\"Bokeh: injecting script tag for BokehJS library: \", url);\n",
       "        document.getElementsByTagName(\"head\")[0].appendChild(s);\n",
       "      }\n",
       "    };var element = document.getElementById(\"f952a10c-7c12-4b18-a9ec-e610e7a74bd0\");\n",
       "    if (element == null) {\n",
       "      console.log(\"Bokeh: ERROR: autoload.js configured with elementid 'f952a10c-7c12-4b18-a9ec-e610e7a74bd0' but no matching script tag was found. \")\n",
       "      return false;\n",
       "    }\n",
       "  \n",
       "    var js_urls = [];\n",
       "  \n",
       "    var inline_js = [\n",
       "      function(Bokeh) {\n",
       "        (function() {\n",
       "          var fn = function() {\n",
       "            var docs_json = {\"7063f0fa-39f5-41e7-92de-f73cf30bb68c\":{\"roots\":{\"references\":[{\"attributes\":{\"fill_alpha\":{\"value\":0.5},\"fill_color\":{\"field\":\"fill_color\"},\"line_alpha\":{\"value\":0.5},\"line_color\":{\"field\":\"line_color\"},\"size\":{\"field\":\"size\",\"units\":\"screen\"},\"x\":{\"field\":\"x\"},\"y\":{\"field\":\"y\"}},\"id\":\"3f30e655-ef0f-4b5f-bfe9-7178681d9146\",\"type\":\"Circle\"},{\"attributes\":{\"bottom_units\":\"screen\",\"fill_alpha\":{\"value\":0.5},\"fill_color\":{\"value\":\"lightgrey\"},\"left_units\":\"screen\",\"level\":\"overlay\",\"line_alpha\":{\"value\":1.0},\"line_color\":{\"value\":\"black\"},\"line_dash\":[4,4],\"line_width\":{\"value\":2},\"plot\":null,\"render_mode\":\"css\",\"right_units\":\"screen\",\"top_units\":\"screen\"},\"id\":\"511ea000-23cc-400a-b96c-12e207d8e0df\",\"type\":\"BoxAnnotation\"},{\"attributes\":{\"plot\":{\"id\":\"9236d2cc-c4fc-4082-a761-4e899ff78584\",\"subtype\":\"Figure\",\"type\":\"Plot\"}},\"id\":\"d19ff21d-a1f9-4632-bdc1-7d1ed80e7197\",\"type\":\"HelpTool\"},{\"attributes\":{\"callback\":null},\"id\":\"19aa2e8a-87b4-4817-80d3-c7c8fb59e53d\",\"type\":\"DataRange1d\"},{\"attributes\":{\"dimension\":1,\"plot\":{\"id\":\"9236d2cc-c4fc-4082-a761-4e899ff78584\",\"subtype\":\"Figure\",\"type\":\"Plot\"},\"ticker\":{\"id\":\"7d9dedc7-9b46-40a5-8c3c-f45627e47f2a\",\"type\":\"BasicTicker\"}},\"id\":\"4c32a870-6315-4d75-ba5d-7f6ebb10573b\",\"type\":\"Grid\"},{\"attributes\":{\"callback\":null},\"id\":\"8505971c-338d-4364-a645-e5c234954b3b\",\"type\":\"DataRange1d\"},{\"attributes\":{\"fill_alpha\":{\"value\":0.1},\"fill_color\":{\"value\":\"#1f77b4\"},\"line_alpha\":{\"value\":0.1},\"line_color\":{\"value\":\"#1f77b4\"},\"size\":{\"field\":\"size\",\"units\":\"screen\"},\"x\":{\"field\":\"x\"},\"y\":{\"field\":\"y\"}},\"id\":\"4d487cea-7b84-4ffe-a8a7-403119d6445a\",\"type\":\"Circle\"},{\"attributes\":{},\"id\":\"7d9dedc7-9b46-40a5-8c3c-f45627e47f2a\",\"type\":\"BasicTicker\"},{\"attributes\":{},\"id\":\"8a9cac9b-1400-4372-ad01-0bbddcf32ca7\",\"type\":\"ToolEvents\"},{\"attributes\":{\"data_source\":{\"id\":\"8634ccff-ace2-4a48-bf88-3a46c72b02ae\",\"type\":\"ColumnDataSource\"},\"glyph\":{\"id\":\"3f30e655-ef0f-4b5f-bfe9-7178681d9146\",\"type\":\"Circle\"},\"hover_glyph\":null,\"muted_glyph\":null,\"nonselection_glyph\":{\"id\":\"4d487cea-7b84-4ffe-a8a7-403119d6445a\",\"type\":\"Circle\"},\"selection_glyph\":null},\"id\":\"b46cb9f3-df5c-429f-991d-308fd12f8a26\",\"type\":\"GlyphRenderer\"},{\"attributes\":{},\"id\":\"34aad6bf-3694-493c-8aec-3403d2aa53e8\",\"type\":\"BasicTickFormatter\"},{\"attributes\":{\"plot\":{\"id\":\"9236d2cc-c4fc-4082-a761-4e899ff78584\",\"subtype\":\"Figure\",\"type\":\"Plot\"},\"ticker\":{\"id\":\"a424bf17-e2d3-429d-964b-1a954ea4b4a8\",\"type\":\"BasicTicker\"}},\"id\":\"319ae2ad-918c-4256-a8d4-7bb653418367\",\"type\":\"Grid\"},{\"attributes\":{\"plot\":{\"id\":\"9236d2cc-c4fc-4082-a761-4e899ff78584\",\"subtype\":\"Figure\",\"type\":\"Plot\"}},\"id\":\"fbfbb045-3267-4487-9484-19ad639e712d\",\"type\":\"ResetTool\"},{\"attributes\":{\"formatter\":{\"id\":\"87eb391c-ba45-4cbf-8e94-3b7cbffd54cd\",\"type\":\"BasicTickFormatter\"},\"plot\":{\"id\":\"9236d2cc-c4fc-4082-a761-4e899ff78584\",\"subtype\":\"Figure\",\"type\":\"Plot\"},\"ticker\":{\"id\":\"a424bf17-e2d3-429d-964b-1a954ea4b4a8\",\"type\":\"BasicTicker\"}},\"id\":\"028c43a1-e517-449b-8878-b8a6c57756d5\",\"type\":\"LinearAxis\"},{\"attributes\":{\"formatter\":{\"id\":\"34aad6bf-3694-493c-8aec-3403d2aa53e8\",\"type\":\"BasicTickFormatter\"},\"plot\":{\"id\":\"9236d2cc-c4fc-4082-a761-4e899ff78584\",\"subtype\":\"Figure\",\"type\":\"Plot\"},\"ticker\":{\"id\":\"7d9dedc7-9b46-40a5-8c3c-f45627e47f2a\",\"type\":\"BasicTicker\"}},\"id\":\"3dd507a3-79a9-489b-8b2c-f7309622591c\",\"type\":\"LinearAxis\"},{\"attributes\":{\"plot\":{\"id\":\"9236d2cc-c4fc-4082-a761-4e899ff78584\",\"subtype\":\"Figure\",\"type\":\"Plot\"}},\"id\":\"12e367da-2b7b-42ed-b199-d6c6f928078c\",\"type\":\"SaveTool\"},{\"attributes\":{\"plot\":{\"id\":\"9236d2cc-c4fc-4082-a761-4e899ff78584\",\"subtype\":\"Figure\",\"type\":\"Plot\"}},\"id\":\"1dc20e3d-9cce-40a2-a894-cd74a3ccf4c0\",\"type\":\"PanTool\"},{\"attributes\":{\"plot\":{\"id\":\"9236d2cc-c4fc-4082-a761-4e899ff78584\",\"subtype\":\"Figure\",\"type\":\"Plot\"}},\"id\":\"2cf59b3f-8036-4523-b95f-6c90daef41ef\",\"type\":\"WheelZoomTool\"},{\"attributes\":{\"overlay\":{\"id\":\"511ea000-23cc-400a-b96c-12e207d8e0df\",\"type\":\"BoxAnnotation\"},\"plot\":{\"id\":\"9236d2cc-c4fc-4082-a761-4e899ff78584\",\"subtype\":\"Figure\",\"type\":\"Plot\"}},\"id\":\"73ab1ec8-8a84-4bb2-ae6c-14f7d7834836\",\"type\":\"BoxZoomTool\"},{\"attributes\":{\"callback\":null,\"column_names\":[\"x\",\"size\",\"y\",\"fill_color\",\"line_color\"],\"data\":{\"fill_color\":[\"red\",\"red\",\"green\",\"red\",\"orange\",\"navy\",\"red\",\"purple\",\"green\",\"purple\",\"purple\",\"navy\",\"orange\",\"purple\",\"green\",\"orange\",\"purple\",\"navy\",\"green\",\"green\",\"purple\",\"green\",\"green\",\"purple\",\"navy\",\"orange\",\"purple\",\"navy\",\"orange\",\"orange\",\"red\",\"navy\",\"red\",\"purple\",\"purple\",\"purple\",\"red\",\"red\",\"red\",\"red\",\"navy\",\"purple\",\"red\",\"purple\",\"navy\",\"purple\",\"red\",\"red\",\"purple\",\"purple\",\"red\",\"red\",\"orange\",\"navy\",\"navy\",\"orange\",\"red\",\"purple\",\"navy\",\"purple\",\"navy\",\"navy\",\"green\",\"navy\",\"purple\",\"green\",\"navy\",\"navy\",\"orange\",\"green\",\"navy\",\"green\",\"purple\",\"purple\",\"red\",\"green\",\"navy\",\"red\",\"navy\",\"red\",\"green\",\"purple\",\"navy\",\"purple\",\"purple\",\"green\",\"orange\",\"orange\",\"red\",\"green\",\"red\",\"navy\",\"navy\",\"navy\",\"orange\",\"purple\",\"red\",\"purple\",\"navy\",\"orange\"],\"line_color\":[\"red\",\"red\",\"green\",\"red\",\"orange\",\"navy\",\"red\",\"purple\",\"green\",\"purple\",\"purple\",\"navy\",\"orange\",\"purple\",\"green\",\"orange\",\"purple\",\"navy\",\"green\",\"green\",\"purple\",\"green\",\"green\",\"purple\",\"navy\",\"orange\",\"purple\",\"navy\",\"orange\",\"orange\",\"red\",\"navy\",\"red\",\"purple\",\"purple\",\"purple\",\"red\",\"red\",\"red\",\"red\",\"navy\",\"purple\",\"red\",\"purple\",\"navy\",\"purple\",\"red\",\"red\",\"purple\",\"purple\",\"red\",\"red\",\"orange\",\"navy\",\"navy\",\"orange\",\"red\",\"purple\",\"navy\",\"purple\",\"navy\",\"navy\",\"green\",\"navy\",\"purple\",\"green\",\"navy\",\"navy\",\"orange\",\"green\",\"navy\",\"green\",\"purple\",\"purple\",\"red\",\"green\",\"navy\",\"red\",\"navy\",\"red\",\"green\",\"purple\",\"navy\",\"purple\",\"purple\",\"green\",\"orange\",\"orange\",\"red\",\"green\",\"red\",\"navy\",\"navy\",\"navy\",\"orange\",\"purple\",\"red\",\"purple\",\"navy\",\"orange\"],\"size\":{\"__ndarray__\":\"mpmZmZmZLUBmZmZmZmYzQDMzMzMzsz5AmpmZmZmZJUCamZmZmZlBQDMzMzMzM0RAAAAAAADAR0CamZmZmZlIQGZmZmZmZhxAAAAAAAAAL0DNzMzMzExCQGZmZmZmpkBAAAAAAAAAPUAAAAAAAIA3QAAAAAAAgD5AmpmZmZmZPUAzMzMzMzPjPwAAAAAAADRAAAAAAAAAGkCamZmZmRlHQAAAAAAAwEdAAAAAAAAAK0AAAAAAAIA1QGZmZmZm5kRAzczMzMzMJ0AzMzMzMzMkQM3MzMzMDERAzczMzMxMRkDNzMzMzMwMQDMzMzMzMzpAmpmZmZmZR0AAAAAAAABHQGZmZmZmZhhAAAAAAAAANUBmZmZmZiZHQM3MzMzMTEFAmpmZmZmZCUAAAAAAAEBDQAAAAAAAgDZAZmZmZmZmO0BmZmZmZmZBQM3MzMzMzCFAmpmZmZmZQ0AzMzMzMzNCQDMzMzMzc0hAAAAAAADARkBmZmZmZqZAQDMzMzMz80NAZmZmZmZmQUBmZmZmZuYxQGZmZmZmZidAAAAAAACAPEAzMzMzMzMDQM3MzMzMzCZAMzMzMzMzKECamZmZmRlFQJqZmZmZWURAAAAAAAAAIECamZmZmdlAQJqZmZmZ2UFAAAAAAABARUAAAAAAAMBDQM3MzMzMzDRAzczMzMxMPEDNzMzMzMwpQAAAAAAAACtAMzMzMzMzNEBmZmZmZuY4QGZmZmZm5j1AAAAAAAAAKUAzMzMzMzNFQDMzMzMzMzNAZmZmZmZmPUBmZmZmZmY1QM3MzMzMzCdAAAAAAACAMUDNzMzMzIxGQM3MzMzMjEVAZmZmZmZmJEBmZmZmZuZBQGZmZmZmJkhAZmZmZmZmQUBmZmZmZmYzQJqZmZmZGUZAMzMzMzOzMkBmZmZmZmZFQJqZmZmZmUFAzczMzMzMQEBmZmZmZuY6QGZmZmZmZkNAMzMzMzMzRkCamZmZmZk2QAAAAAAAgEJAZmZmZmZmRkCamZmZmRk/QGZmZmZmZh5AZmZmZmZmKkAAAAAAAIBEQM3MzMzMzDZAMzMzMzPzQUA=\",\"dtype\":\"float64\",\"shape\":[100]},\"x\":[2012,2012,2012,2012,2012,2012,2012,2012,2012,2012,2012,2012,2012,2012,2012,2012,2012,2012,2012,2012,2013,2013,2013,2013,2013,2013,2013,2013,2013,2013,2013,2013,2013,2013,2013,2013,2013,2013,2013,2013,2014,2014,2014,2014,2014,2014,2014,2014,2014,2014,2014,2014,2014,2014,2014,2014,2014,2014,2014,2014,2015,2015,2015,2015,2015,2015,2015,2015,2015,2015,2015,2015,2015,2015,2015,2015,2015,2015,2015,2015,2016,2016,2016,2016,2016,2016,2016,2016,2016,2016,2016,2016,2016,2016,2016,2016,2016,2016,2016,2016],\"y\":[39404,80466,98794,42643,16669,18054,36616,98306,3959,82087,87852,40177,39460,73867,7031,51169,35255,33424,20022,84651,37248,90394,39204,45497,18028,92355,19896,27008,65326,28161,58109,54462,42996,82276,14237,84063,30187,85953,96044,42282,79678,15494,73535,10104,89990,88100,33555,99662,74516,75006,89905,59529,79426,64839,7293,58386,57641,193,5020,28974,1728,82043,14671,28430,99808,77302,69667,26162,68716,82419,17585,61546,86696,83197,92829,97387,42156,4729,12074,55005,92907,99362,91200,46095,39103,81581,36743,6897,37448,68862,21052,52471,90952,77312,23887,33749,89950,41652,6024,11343]}},\"id\":\"8634ccff-ace2-4a48-bf88-3a46c72b02ae\",\"type\":\"ColumnDataSource\"},{\"attributes\":{\"plot\":null,\"text\":\"\"},\"id\":\"2ce6258e-0a5b-4afd-834e-7633801b9a8b\",\"type\":\"Title\"},{\"attributes\":{\"active_drag\":\"auto\",\"active_scroll\":\"auto\",\"active_tap\":\"auto\",\"tools\":[{\"id\":\"1dc20e3d-9cce-40a2-a894-cd74a3ccf4c0\",\"type\":\"PanTool\"},{\"id\":\"2cf59b3f-8036-4523-b95f-6c90daef41ef\",\"type\":\"WheelZoomTool\"},{\"id\":\"73ab1ec8-8a84-4bb2-ae6c-14f7d7834836\",\"type\":\"BoxZoomTool\"},{\"id\":\"12e367da-2b7b-42ed-b199-d6c6f928078c\",\"type\":\"SaveTool\"},{\"id\":\"fbfbb045-3267-4487-9484-19ad639e712d\",\"type\":\"ResetTool\"},{\"id\":\"d19ff21d-a1f9-4632-bdc1-7d1ed80e7197\",\"type\":\"HelpTool\"}]},\"id\":\"8baca611-be80-49b1-8849-938b88805a14\",\"type\":\"Toolbar\"},{\"attributes\":{\"below\":[{\"id\":\"028c43a1-e517-449b-8878-b8a6c57756d5\",\"type\":\"LinearAxis\"}],\"left\":[{\"id\":\"3dd507a3-79a9-489b-8b2c-f7309622591c\",\"type\":\"LinearAxis\"}],\"renderers\":[{\"id\":\"028c43a1-e517-449b-8878-b8a6c57756d5\",\"type\":\"LinearAxis\"},{\"id\":\"319ae2ad-918c-4256-a8d4-7bb653418367\",\"type\":\"Grid\"},{\"id\":\"3dd507a3-79a9-489b-8b2c-f7309622591c\",\"type\":\"LinearAxis\"},{\"id\":\"4c32a870-6315-4d75-ba5d-7f6ebb10573b\",\"type\":\"Grid\"},{\"id\":\"511ea000-23cc-400a-b96c-12e207d8e0df\",\"type\":\"BoxAnnotation\"},{\"id\":\"b46cb9f3-df5c-429f-991d-308fd12f8a26\",\"type\":\"GlyphRenderer\"}],\"title\":{\"id\":\"2ce6258e-0a5b-4afd-834e-7633801b9a8b\",\"type\":\"Title\"},\"tool_events\":{\"id\":\"8a9cac9b-1400-4372-ad01-0bbddcf32ca7\",\"type\":\"ToolEvents\"},\"toolbar\":{\"id\":\"8baca611-be80-49b1-8849-938b88805a14\",\"type\":\"Toolbar\"},\"x_range\":{\"id\":\"8505971c-338d-4364-a645-e5c234954b3b\",\"type\":\"DataRange1d\"},\"y_range\":{\"id\":\"19aa2e8a-87b4-4817-80d3-c7c8fb59e53d\",\"type\":\"DataRange1d\"}},\"id\":\"9236d2cc-c4fc-4082-a761-4e899ff78584\",\"subtype\":\"Figure\",\"type\":\"Plot\"},{\"attributes\":{},\"id\":\"87eb391c-ba45-4cbf-8e94-3b7cbffd54cd\",\"type\":\"BasicTickFormatter\"},{\"attributes\":{},\"id\":\"a424bf17-e2d3-429d-964b-1a954ea4b4a8\",\"type\":\"BasicTicker\"}],\"root_ids\":[\"9236d2cc-c4fc-4082-a761-4e899ff78584\"]},\"title\":\"Bokeh Application\",\"version\":\"0.12.5\"}};\n",
       "            var render_items = [{\"docid\":\"7063f0fa-39f5-41e7-92de-f73cf30bb68c\",\"elementid\":\"f952a10c-7c12-4b18-a9ec-e610e7a74bd0\",\"modelid\":\"9236d2cc-c4fc-4082-a761-4e899ff78584\"}];\n",
       "            \n",
       "            Bokeh.embed.embed_items(docs_json, render_items);\n",
       "          };\n",
       "          if (document.readyState != \"loading\") fn();\n",
       "          else document.addEventListener(\"DOMContentLoaded\", fn);\n",
       "        })();\n",
       "      },\n",
       "      function(Bokeh) {\n",
       "      }\n",
       "    ];\n",
       "  \n",
       "    function run_inline_js() {\n",
       "      \n",
       "      if ((window.Bokeh !== undefined) || (force === true)) {\n",
       "        for (var i = 0; i < inline_js.length; i++) {\n",
       "          inline_js[i](window.Bokeh);\n",
       "        }if (force === true) {\n",
       "          display_loaded();\n",
       "        }} else if (Date.now() < window._bokeh_timeout) {\n",
       "        setTimeout(run_inline_js, 100);\n",
       "      } else if (!window._bokeh_failed_load) {\n",
       "        console.log(\"Bokeh: BokehJS failed to load within specified timeout.\");\n",
       "        window._bokeh_failed_load = true;\n",
       "      } else if (force !== true) {\n",
       "        var cell = $(document.getElementById(\"f952a10c-7c12-4b18-a9ec-e610e7a74bd0\")).parents('.cell').data().cell;\n",
       "        cell.output_area.append_execute_result(NB_LOAD_WARNING)\n",
       "      }\n",
       "  \n",
       "    }\n",
       "  \n",
       "    if (window._bokeh_is_loading === 0) {\n",
       "      console.log(\"Bokeh: BokehJS loaded, going straight to plotting\");\n",
       "      run_inline_js();\n",
       "    } else {\n",
       "      load_libs(js_urls, function() {\n",
       "        console.log(\"Bokeh: BokehJS plotting callback run at\", now());\n",
       "        run_inline_js();\n",
       "      });\n",
       "    }\n",
       "  }(this));\n",
       "</script>"
      ]
     },
     "metadata": {},
     "output_type": "display_data"
    }
   ],
   "source": [
    "p = figure()\n",
    "color_dict=color_mapper(food_type)\n",
    "for category in categories:\n",
    "    index = df.food_item == category\n",
    "    p.circle(df.year[],price,size=(volume_consumed/10), color=color_dict[category] alpha=0.5,legend=category)\n",
    "\n",
    "show(p)"
   ]
  },
  {
   "cell_type": "code",
   "execution_count": null,
   "metadata": {
    "collapsed": true
   },
   "outputs": [],
   "source": []
  }
 ],
 "metadata": {
  "kernelspec": {
   "display_name": "python_from_venv",
   "language": "python",
   "name": "python_from_venv"
  },
  "language_info": {
   "codemirror_mode": {
    "name": "ipython",
    "version": 3
   },
   "file_extension": ".py",
   "mimetype": "text/x-python",
   "name": "python",
   "nbconvert_exporter": "python",
   "pygments_lexer": "ipython3",
   "version": "3.5.2"
  }
 },
 "nbformat": 4,
 "nbformat_minor": 2
}
